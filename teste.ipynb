{
 "cells": [
  {
   "cell_type": "code",
   "execution_count": null,
   "metadata": {},
   "outputs": [],
   "source": [
    "# Critérios de avaliação\n",
    "# ● Organização do código e código limpo;\n",
    "# ● Organização dos commits e mensagens de commit;\n",
    "# ● Atendimento à especificação;"
   ]
  },
  {
   "cell_type": "code",
   "execution_count": null,
   "metadata": {},
   "outputs": [],
   "source": [
    "# 1. Crie um repositório do Git (GitHub ou GitLab) e compartilhe com os usuários\n",
    "# seguintes:\n",
    "# ● marcelovbcfilho\n",
    "# ● gflucky\n",
    "# ● leluque"
   ]
  },
  {
   "cell_type": "code",
   "execution_count": null,
   "metadata": {},
   "outputs": [],
   "source": [
    "# 2. Escreva o código de uma classe Senha, em alguma linguagem orientada a\n",
    "# objetos, com as seguintes características e funcionalidades:\n",
    "\n",
    "# a. Não utilize nenhuma função pronta da linguagem para validar força de\n",
    "# senha."
   ]
  },
  {
   "cell_type": "code",
   "execution_count": null,
   "metadata": {},
   "outputs": [],
   "source": [
    "# b. Deve existir um atributo obrigatório chamado conteúdo, com o valor da\n",
    "# senha."
   ]
  },
  {
   "cell_type": "code",
   "execution_count": null,
   "metadata": {},
   "outputs": [],
   "source": [
    "# c. Após criado um objeto de senha, ela pode ser alterada."
   ]
  },
  {
   "cell_type": "code",
   "execution_count": null,
   "metadata": {},
   "outputs": [],
   "source": [
    "# d. A senha deve seguir uma regra e, caso se tente criar ou alterar um\n",
    "# objeto com uma senha que não siga a regra, isso não deve ser\n",
    "# permitido.\n",
    "# Regra de validação de senha:\n",
    "# ● Tamanho mínimo: 10;\n",
    "# ● Tamanho máximo: 30;\n",
    "# ● Tem que ter ao menos uma letra maiúscula;\n",
    "# ● Tem que ter ao menos uma letra minúscula;\n",
    "# ● Tem que ter ao menos um número;\n",
    "# ● Tem que ter ao menos um símbolo (qualquer símbolo que não é\n",
    "# caractere nem dígito);"
   ]
  },
  {
   "cell_type": "code",
   "execution_count": null,
   "metadata": {},
   "outputs": [],
   "source": [
    "# e. Deve existir um método na classe que retorna a força da senha, um\n",
    "# número de 75 a 100."
   ]
  },
  {
   "cell_type": "code",
   "execution_count": null,
   "metadata": {},
   "outputs": [],
   "source": [
    "# Descrição da Lógica para Calcular a Força da Senha\n",
    "# ● Comprimento da senha: quanto maior, mais forte (dentro do intervalo\n",
    "# permitido). Use uma escala linear para pontuar o comprimento, onde 10\n",
    "# caracteres dão a pontuação mínima e 30 caracteres dão a pontuação\n",
    "# máxima.\n",
    "# ● Padrões repetidos: descontar pontos por repetição (cada repetição\n",
    "# subtrai 1);\n",
    "# ● Descontar pontos na ocorrência de sequências previsíveis, mesmo que\n",
    "# no meio da senha (sequências previsíveis: abc, 12345, qwert, asdfg).\n",
    "# Cada aparição subtrai 1."
   ]
  }
 ],
 "metadata": {
  "language_info": {
   "name": "python"
  }
 },
 "nbformat": 4,
 "nbformat_minor": 2
}
