{
 "cells": [
  {
   "cell_type": "code",
   "execution_count": null,
   "metadata": {},
   "outputs": [],
   "source": [
    "# Critérios de avaliação\n",
    "# ● Organização do código e código limpo;\n",
    "# ● Organização dos commits e mensagens de commit;\n",
    "# ● Atendimento à especificação;"
   ]
  },
  {
   "cell_type": "code",
   "execution_count": null,
   "metadata": {},
   "outputs": [],
   "source": [
    "# 1. Crie um repositório do Git (GitHub ou GitLab) e compartilhe com os usuários\n",
    "# seguintes:\n",
    "# ● marcelovbcfilho\n",
    "# ● gflucky\n",
    "# ● leluque\n",
    "\n",
    "\n",
    "\n",
    "######okkk######"
   ]
  },
  {
   "cell_type": "code",
   "execution_count": 23,
   "metadata": {},
   "outputs": [],
   "source": [
    "# 2. Escreva o código de uma classe Senha, em alguma linguagem orientada a\n",
    "# objetos, com as seguintes características e funcionalidades:\n",
    "\n",
    "# a. Não utilize nenhuma função pronta da linguagem para validar força de\n",
    "# senha.\n",
    "\n",
    "\n",
    "# criando a classe senha que vai receber  o metodo construtor\n",
    "# os criterios estao no item b e d do enunciado  \n",
    "class Senha():\n",
    "    def __init__(self):\n",
    "        self.minimo = 10 \n",
    "        self.maximo = 30 \n",
    "        self.maiuscula = ('ABCDEFGHIJKLMNOPRSTUVXYWZ')\n",
    "        self.minuscula = (\"abcdefghijklmnopqrstuvxywz\")\n",
    "        self.numero = ('0123456789')\n",
    "        self.simbolo = ('!@#$%&*+-=/')\n",
    "        self.sequênciasPrevisíveis = ('abc', '12345', 'qwert', 'asdfg')\n",
    "        print(\"Construtor chamado para criar um objeto desta classe.\")\n",
    "        \n",
    "    def imprime(self):\n",
    "        print(\"Foi criado o objeto %d %d %s %s %s %s %s \" %(self.minimo,self.maximo,\n",
    "                                                   self.maiuscula,self.minuscula,\n",
    "                                                   self.numero, self.simbolo,self.sequênciasPrevisíveis))    "
   ]
  },
  {
   "cell_type": "code",
   "execution_count": 24,
   "metadata": {},
   "outputs": [
    {
     "name": "stdout",
     "output_type": "stream",
     "text": [
      "Construtor chamado para criar um objeto desta classe.\n"
     ]
    }
   ],
   "source": [
    "teste1 = Senha()"
   ]
  },
  {
   "cell_type": "code",
   "execution_count": 25,
   "metadata": {},
   "outputs": [
    {
     "data": {
      "text/plain": [
       "__main__.Senha"
      ]
     },
     "execution_count": 25,
     "metadata": {},
     "output_type": "execute_result"
    }
   ],
   "source": [
    "type(teste1)"
   ]
  },
  {
   "cell_type": "code",
   "execution_count": 26,
   "metadata": {},
   "outputs": [
    {
     "name": "stdout",
     "output_type": "stream",
     "text": [
      "Foi criado o objeto 10 30 ABCDEFGHIJKLMNOPRSTUVXYWZ abcdefghijklmnopqrstuvxywz 0123456789 !@#$%&*+-=/ ('abc', '12345', 'qwert', 'asdfg') \n"
     ]
    }
   ],
   "source": [
    "teste1.imprime()"
   ]
  },
  {
   "cell_type": "code",
   "execution_count": 11,
   "metadata": {},
   "outputs": [],
   "source": [
    "# b. Deve existir um atributo obrigatório chamado conteúdo, com o valor da\n",
    "# senha.\n",
    "\n",
    "def conteudo(self,senha):\n",
    "        return self.conteudo"
   ]
  },
  {
   "cell_type": "code",
   "execution_count": null,
   "metadata": {},
   "outputs": [],
   "source": [
    "# c. Após criado um objeto de senha, ela pode ser alterada.\n"
   ]
  },
  {
   "cell_type": "code",
   "execution_count": 27,
   "metadata": {},
   "outputs": [
    {
     "ename": "SyntaxError",
     "evalue": "invalid syntax (495311049.py, line 19)",
     "output_type": "error",
     "traceback": [
      "\u001b[1;36m  File \u001b[1;32m\"C:\\Users\\Rodrigo\\AppData\\Local\\Temp\\ipykernel_3180\\495311049.py\"\u001b[1;36m, line \u001b[1;32m19\u001b[0m\n\u001b[1;33m    if palavra != minimo\u001b[0m\n\u001b[1;37m                        ^\u001b[0m\n\u001b[1;31mSyntaxError\u001b[0m\u001b[1;31m:\u001b[0m invalid syntax\n"
     ]
    }
   ],
   "source": [
    "# d. A senha deve seguir uma regra e, caso se tente criar ou alterar um\n",
    "# objeto com uma senha que não siga a regra, isso não deve ser\n",
    "# permitido.\n",
    "# Regra de validação de senha:\n",
    "# ● Tamanho mínimo: 10;\n",
    "# ● Tamanho máximo: 30;\n",
    "# ● Tem que ter ao menos uma letra maiúscula;\n",
    "# ● Tem que ter ao menos uma letra minúscula;\n",
    "# ● Tem que ter ao menos um número;\n",
    "# ● Tem que ter ao menos um símbolo (qualquer símbolo que não é\n",
    "# caractere nem dígito);\n",
    "def regraSenha (self,conteudo,validaçãoSenha):\n",
    "    if conteudo == validaçãoSenha:\n",
    "        print(\"tudo certo \")\n",
    "    else: print(\"não confere\")  \n",
    "    \n",
    "def regraValidação_senha( self, minimo, maximo, maiuscula, minuscula, numero, simbolo ):\n",
    "    for letra in palavra:\n",
    "        if letra != minimo:\n",
    "            print('falta preencher senha: \"minimo 10 caracteres\"')\n",
    "        elif letra != maximo:\n",
    "            print('excedeu o numero de caracteres:\"maximo de 30 caracteres\"')\n",
    "        elif letra != maiuscula:\n",
    "            print('precisa conter ao menos uma letra maiuscula')        \n",
    "        \n",
    " \n"
   ]
  },
  {
   "cell_type": "code",
   "execution_count": null,
   "metadata": {},
   "outputs": [],
   "source": [
    "\n",
    "# e. Deve existir um método na classe que retorna a força da senha, um\n",
    "# número de 75 a 100."
   ]
  },
  {
   "cell_type": "code",
   "execution_count": null,
   "metadata": {},
   "outputs": [],
   "source": [
    "# Descrição da Lógica para Calcular a Força da Senha\n",
    "# ● Comprimento da senha: quanto maior, mais forte (dentro do intervalo\n",
    "# permitido). Use uma escala linear para pontuar o comprimento, onde 10\n",
    "# caracteres dão a pontuação mínima e 30 caracteres dão a pontuação\n",
    "# máxima.\n",
    "# ● Padrões repetidos: descontar pontos por repetição (cada repetição\n",
    "# subtrai 1);\n",
    "# ● Descontar pontos na ocorrência de sequências previsíveis, mesmo que\n",
    "# no meio da senha (sequências previsíveis: abc, 12345, qwert, asdfg).\n",
    "# Cada aparição subtrai 1.\n",
    "def forcaSenha ():\n",
    "    "
   ]
  }
 ],
 "metadata": {
  "kernelspec": {
   "display_name": "base",
   "language": "python",
   "name": "python3"
  },
  "language_info": {
   "codemirror_mode": {
    "name": "ipython",
    "version": 3
   },
   "file_extension": ".py",
   "mimetype": "text/x-python",
   "name": "python",
   "nbconvert_exporter": "python",
   "pygments_lexer": "ipython3",
   "version": "3.9.13"
  }
 },
 "nbformat": 4,
 "nbformat_minor": 2
}
